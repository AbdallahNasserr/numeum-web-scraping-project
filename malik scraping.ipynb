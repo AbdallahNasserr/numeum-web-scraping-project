{
 "cells": [
  {
   "cell_type": "code",
   "execution_count": 3,
   "metadata": {},
   "outputs": [
    {
     "name": "stdout",
     "output_type": "stream",
     "text": [
      "Data extraction completed and saved to lafah_extracted_data.csv\n"
     ]
    }
   ],
   "source": [
    "import pandas as pd\n",
    "import requests\n",
    "from bs4 import BeautifulSoup\n",
    "file_path = r\"C:\\Users\\acer\\Downloads\\lafah scraping.csv\"\n",
    "data = pd.read_csv(file_path)\n",
    "# Filter rows where \"pattern\" column equals 1\n",
    "filtered_data = data[data['pattern'] == 1]\n",
    "\n",
    "names = []\n",
    "old_prices = []\n",
    "current_prices = []\n",
    "\n",
    "# Loop over the filtered URLs\n",
    "for url in filtered_data['url']:\n",
    "    try:\n",
    "        # Send a request to the URL\n",
    "        response = requests.get(url)\n",
    "        response.raise_for_status()\n",
    "        \n",
    "        soup = BeautifulSoup(response.text, 'html.parser')\n",
    "        \n",
    "        # Extract the name\n",
    "        name_tag = soup.find('h1', class_='product_title entry-title')\n",
    "        name = name_tag.get_text(strip=True) if name_tag else None\n",
    "        \n",
    "        # Extract the old price\n",
    "        old_price_tag = soup.find('del')\n",
    "        old_price = old_price_tag.find('span', class_='woocommerce-Price-amount').get_text(strip=True) if old_price_tag else None\n",
    "        \n",
    "        # Extract the current price\n",
    "        current_price_tag = soup.find('ins')\n",
    "        current_price = current_price_tag.find('span', class_='woocommerce-Price-amount').get_text(strip=True) if current_price_tag else None\n",
    "        \n",
    "        names.append(name)\n",
    "        old_prices.append(old_price)\n",
    "        current_prices.append(current_price)\n",
    "        \n",
    "    except requests.RequestException as e:\n",
    "        print(f\"Request error for URL {url}: {e}\")\n",
    "        names.append(None)\n",
    "        old_prices.append(None)\n",
    "        current_prices.append(None)\n",
    "    except AttributeError as e:\n",
    "        print(f\"Parsing error for URL {url}: {e}\")\n",
    "        names.append(None)\n",
    "        old_prices.append(None)\n",
    "        current_prices.append(None)\n",
    "\n",
    "result_df = pd.DataFrame({\n",
    "    'URL': filtered_data['url'],\n",
    "    'Name': names,\n",
    "    'Old Price': old_prices,\n",
    "    'Current Price': current_prices\n",
    "})\n",
    "\n",
    "# Save to a new CSV file\n",
    "result_df.to_csv(r\"C:\\Users\\acer\\Downloads\\lafah_extracted_data.csv\", index=False)\n",
    "print(\"Data extraction completed and saved to lafah_extracted_data.csv\")\n"
   ]
  }
 ],
 "metadata": {
  "kernelspec": {
   "display_name": "base",
   "language": "python",
   "name": "python3"
  },
  "language_info": {
   "codemirror_mode": {
    "name": "ipython",
    "version": 3
   },
   "file_extension": ".py",
   "mimetype": "text/x-python",
   "name": "python",
   "nbconvert_exporter": "python",
   "pygments_lexer": "ipython3",
   "version": "3.10.9"
  }
 },
 "nbformat": 4,
 "nbformat_minor": 2
}
